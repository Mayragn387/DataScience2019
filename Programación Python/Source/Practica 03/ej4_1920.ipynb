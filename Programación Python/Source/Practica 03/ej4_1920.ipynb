{
 "cells": [
  {
   "cell_type": "markdown",
   "metadata": {},
   "source": [
    "# Ejercicios "
   ]
  },
  {
   "cell_type": "markdown",
   "metadata": {},
   "source": [
    "Los enlaces que te encuentres en esta página, solo funcionan desde el formato html, no desde el notebook una vez descargado."
   ]
  },
  {
   "cell_type": "markdown",
   "metadata": {},
   "source": [
    "## Ejercicio 1"
   ]
  },
  {
   "cell_type": "markdown",
   "metadata": {},
   "source": [
    "Dos niños están haciendo una colección de cromos. Cada cromo tiene asignado un número entero entre 1 y 200.\n",
    "\n",
    "* Los cromos que tiene Juan se encuentran en el fichero [juan.txt](./datos/col_juan.txt). La primera columna representa el número asociado al cromo y la segunda columna representa el número de cromos con ese número que tiene Juan.\n",
    "\n",
    "* Los cromos que tiene Pedro se encuentran en el fichero [pedro.txt](./datos/col_pedro.txt). La primera columna representa el número asociado al cromo y la segunda columna representa el número de cromos con ese número que tiene Pedro.\n",
    "\n",
    "__a)__ Crear un array de `numpy` con los datos de cada una de las colecciones. Los arrays han de llamarse `juan`y `pedro`.\n",
    "\n",
    "   * Descarga los ficheros  en tu directorio de trabajo.\n",
    "   * Carga cada uno de los ficheros mediante la función `loadtxt`. Usa el parámetro  `delimiter` con valor `,`. Usa el parámetro `dtype` para indicar que los valores sean de tipo `int`."
   ]
  },
  {
   "cell_type": "code",
   "execution_count": 2,
   "metadata": {
    "ExecuteTime": {
     "end_time": "2019-01-04T13:46:15.191779Z",
     "start_time": "2019-01-04T13:46:15.182881Z"
    }
   },
   "outputs": [
    {
     "data": {
      "text/plain": [
       "'C:\\\\Users\\\\Goicochea\\\\Documents\\\\GitHub\\\\MasterDS2019\\\\Programación Python\\\\Source\\\\Practica 03'"
      ]
     },
     "execution_count": 2,
     "metadata": {},
     "output_type": "execute_result"
    }
   ],
   "source": [
    "# Sol: \n",
    "import numpy as np\n",
    "import os\n",
    "os.getcwd()"
   ]
  },
  {
   "cell_type": "code",
   "execution_count": 3,
   "metadata": {},
   "outputs": [],
   "source": [
    "os.chdir('C:\\\\Users\\\\Goicochea\\\\Documents\\\\GitHub\\\\MasterDS2019\\\\Programación Python\\\\Data\\\\Practica 03')"
   ]
  },
  {
   "cell_type": "code",
   "execution_count": 4,
   "metadata": {},
   "outputs": [],
   "source": [
    "juan=np.loadtxt('./col_juan.txt',dtype=int,delimiter=',')\n",
    "pedro=np.loadtxt('./col_pedro.txt',dtype=int,delimiter=',')"
   ]
  },
  {
   "cell_type": "markdown",
   "metadata": {},
   "source": [
    "__b)__ Calcula el número de cromos diferentes que tiene cada niño. "
   ]
  },
  {
   "cell_type": "code",
   "execution_count": 5,
   "metadata": {
    "ExecuteTime": {
     "end_time": "2019-01-04T13:59:53.267589Z",
     "start_time": "2019-01-04T13:59:53.264120Z"
    }
   },
   "outputs": [
    {
     "data": {
      "text/plain": [
       "(68, 124)"
      ]
     },
     "execution_count": 5,
     "metadata": {},
     "output_type": "execute_result"
    }
   ],
   "source": [
    "# SOl: \n",
    "# juan tiene 68 cromos\n",
    "# pedro tiene 124 cromos\n",
    "len(juan), len(pedro)\n"
   ]
  },
  {
   "cell_type": "markdown",
   "metadata": {},
   "source": [
    "__c)__ Calcula el número de cromos totales que tiene cada niño (contando los cromos repetidos). "
   ]
  },
  {
   "cell_type": "code",
   "execution_count": 6,
   "metadata": {
    "ExecuteTime": {
     "end_time": "2019-01-04T13:59:59.450302Z",
     "start_time": "2019-01-04T13:59:59.447330Z"
    }
   },
   "outputs": [
    {
     "data": {
      "text/plain": [
       "(1326, 619)"
      ]
     },
     "execution_count": 6,
     "metadata": {},
     "output_type": "execute_result"
    }
   ],
   "source": [
    "# SOl: \n",
    "# pedro tiene 1326 cromos \n",
    "# juan tiene 619 cromos\n",
    "pedro[:,1].sum(),juan[:,1].sum()"
   ]
  },
  {
   "cell_type": "code",
   "execution_count": 7,
   "metadata": {},
   "outputs": [
    {
     "data": {
      "text/plain": [
       "(1326, 619)"
      ]
     },
     "execution_count": 7,
     "metadata": {},
     "output_type": "execute_result"
    }
   ],
   "source": [
    "np.sum(pedro[:,1]),np.sum(juan[:,1])"
   ]
  },
  {
   "cell_type": "code",
   "execution_count": 8,
   "metadata": {},
   "outputs": [
    {
     "data": {
      "text/plain": [
       "(1326, 619)"
      ]
     },
     "execution_count": 8,
     "metadata": {},
     "output_type": "execute_result"
    }
   ],
   "source": [
    "sum(pedro[:,1]),sum(juan[:,1]) #menos eficiente en performance"
   ]
  },
  {
   "cell_type": "markdown",
   "metadata": {},
   "source": [
    "__d)__ Calcula el número de cromos que aparecen en las dos colecciones. Puedes usar la función `np.intersect1d`."
   ]
  },
  {
   "cell_type": "code",
   "execution_count": 9,
   "metadata": {
    "ExecuteTime": {
     "end_time": "2019-01-04T14:00:50.965063Z",
     "start_time": "2019-01-04T14:00:50.960103Z"
    }
   },
   "outputs": [
    {
     "data": {
      "text/plain": [
       "(array([  2,  15,  28,  31,  40,  42,  43,  49,  53,  54,  60,  61,  68,\n",
       "         71,  74,  80,  90,  97, 112, 117, 123, 130, 134, 135, 143, 145,\n",
       "        152, 153, 157, 160, 163, 164, 166, 167, 168, 170, 171, 172, 178,\n",
       "        182, 183, 192, 197, 198]), 44)"
      ]
     },
     "execution_count": 9,
     "metadata": {},
     "output_type": "execute_result"
    }
   ],
   "source": [
    "# Sol\n",
    "# Hay 44 cromos que aparecen en las dos colecciones\n",
    "fusion=np.intersect1d(pedro[:,0],juan[:,0])\n",
    "fusion,len(fusion)"
   ]
  },
  {
   "cell_type": "markdown",
   "metadata": {},
   "source": [
    "__e)__ Entre los dos niños, ¿forman la colección completa?. Puedes usar la función `np.union1d`."
   ]
  },
  {
   "cell_type": "code",
   "execution_count": 10,
   "metadata": {
    "ExecuteTime": {
     "end_time": "2019-01-04T14:01:31.596336Z",
     "start_time": "2019-01-04T14:01:31.592867Z"
    }
   },
   "outputs": [
    {
     "data": {
      "text/plain": [
       "148"
      ]
     },
     "execution_count": 10,
     "metadata": {},
     "output_type": "execute_result"
    }
   ],
   "source": [
    "# Sol: \n",
    "# No Forman la colección completa. Entre los dos, solo tienen 148 cromos distintos y la colección tiene 200 cromos\n",
    "total=np.union1d(pedro[:,0],juan[:,0])\n",
    "len(total)"
   ]
  },
  {
   "cell_type": "markdown",
   "metadata": {},
   "source": [
    "__f)__ ¿Qué números faltan para tener la colección completa?\n",
    "\n",
    "* Puedes generar un array de todos los cromos de la colección con la función `arange`.\n",
    "* Usa la función `np.in1d` "
   ]
  },
  {
   "cell_type": "code",
   "execution_count": 11,
   "metadata": {
    "ExecuteTime": {
     "end_time": "2019-01-04T14:01:07.241500Z",
     "start_time": "2019-01-04T14:01:07.238035Z"
    }
   },
   "outputs": [
    {
     "data": {
      "text/plain": [
       "array([  1,   3,  12,  16,  17,  21,  30,  34,  38,  45,  46,  48,  52,\n",
       "        55,  66,  69,  72,  75,  76,  81,  82,  91,  92,  96, 100, 106,\n",
       "       107, 113, 114, 119, 122, 124, 125, 129, 138, 139, 140, 146, 151,\n",
       "       154, 155, 173, 176, 180, 181, 184, 185, 186, 190, 194, 199, 200])"
      ]
     },
     "execution_count": 11,
     "metadata": {},
     "output_type": "execute_result"
    }
   ],
   "source": [
    "# Sol:\n",
    "# Listado de los cromos que faltan:\n",
    "#      [  1,   3,  12,  16,  17,  21,  30,  34,  38,  45,  46,  48,  52,\n",
    "#        55,  66,  69,  72,  75,  76,  81,  82,  91,  92,  96, 100, 106,\n",
    "#       107, 113, 114, 119, 122, 124, 125, 129, 138, 139, 140, 146, 151,\n",
    "#       154, 155, 173, 176, 180, 181, 184, 185, 186, 190, 194, 199, 200]\n",
    "    \n",
    "todos=np.arange(1,201)\n",
    "todos\n",
    "filtro=np.in1d(todos,total)\n",
    "todos[filtro==False]"
   ]
  },
  {
   "cell_type": "code",
   "execution_count": 12,
   "metadata": {},
   "outputs": [
    {
     "data": {
      "text/plain": [
       "166"
      ]
     },
     "execution_count": 12,
     "metadata": {},
     "output_type": "execute_result"
    }
   ],
   "source": [
    "#El cromo mas repetido\n",
    "pos=np.argmax(juan[:,1])\n",
    "juan[pos,0]"
   ]
  },
  {
   "cell_type": "markdown",
   "metadata": {},
   "source": [
    "# Ejercicio 2"
   ]
  },
  {
   "cell_type": "markdown",
   "metadata": {},
   "source": [
    "El fichero [tips.txt](./datos/tips.txt) recoge los datos asociados a las reservas de un restaurante durante un periodo de tiempo. Muestra los datos de 6 variables numéricas:\n",
    "\n",
    "* El precio de la factura, \n",
    "* La propina asociada a la factura, \n",
    "* El sexo de la persona que hizo la reserva (1=Hombre, 2=Mujer),\n",
    "* Si es una reserva para fumadores o no (0 = No Fumadores, 1 = Fumadores),\n",
    "* El día de la semana (1 = Lunes, ... , 7 = Domingo),\n",
    "* El número de comensales.\n",
    "\n",
    "Haz una pequeña exploración de los datos del fichero. Observa que el separador de datos es el símbolo coma(,).\n",
    "\n",
    "Realiza la carga de los datos con la función __loadtxt__ del módulo __NumPy__. El array devuelto por __loadtxt__ se llamará __tips__."
   ]
  },
  {
   "cell_type": "code",
   "execution_count": 13,
   "metadata": {},
   "outputs": [],
   "source": [
    "# Sol:\n",
    "# Imports necesarios\n",
    "import numpy as np\n",
    "# importación de numpy\n",
    "tips=np.loadtxt('./tips.txt',dtype=float,delimiter=',')\n",
    "# Para dibujar:\n",
    "import matplotlib.pyplot as plt\n",
    "%matplotlib inline\n"
   ]
  },
  {
   "cell_type": "markdown",
   "metadata": {},
   "source": [
    "__a)__ ¿Cuántas filas hemos cargado?\n"
   ]
  },
  {
   "cell_type": "code",
   "execution_count": 14,
   "metadata": {},
   "outputs": [
    {
     "data": {
      "text/plain": [
       "(244, 6)"
      ]
     },
     "execution_count": 14,
     "metadata": {},
     "output_type": "execute_result"
    }
   ],
   "source": [
    "# Sol:\n",
    "tips.shape"
   ]
  },
  {
   "cell_type": "markdown",
   "metadata": {},
   "source": [
    "__b)__ Muestra las 10 primeras filas"
   ]
  },
  {
   "cell_type": "code",
   "execution_count": 15,
   "metadata": {},
   "outputs": [
    {
     "data": {
      "text/plain": [
       "array([[16.99,  1.01,  2.  ,  0.  ,  7.  ,  2.  ],\n",
       "       [10.34,  1.66,  1.  ,  0.  ,  7.  ,  3.  ],\n",
       "       [21.01,  3.5 ,  1.  ,  0.  ,  7.  ,  3.  ],\n",
       "       [23.68,  3.31,  1.  ,  0.  ,  7.  ,  2.  ],\n",
       "       [24.59,  3.61,  2.  ,  0.  ,  7.  ,  4.  ],\n",
       "       [25.29,  4.71,  1.  ,  0.  ,  7.  ,  4.  ],\n",
       "       [ 8.77,  2.  ,  1.  ,  0.  ,  7.  ,  2.  ],\n",
       "       [26.88,  3.12,  1.  ,  0.  ,  7.  ,  4.  ],\n",
       "       [15.04,  1.96,  1.  ,  0.  ,  7.  ,  2.  ],\n",
       "       [14.78,  3.23,  1.  ,  0.  ,  7.  ,  2.  ]])"
      ]
     },
     "execution_count": 15,
     "metadata": {},
     "output_type": "execute_result"
    }
   ],
   "source": [
    "# Sol:\n",
    "tips[:10,:]\n",
    "tips[:10] #Otra manera"
   ]
  },
  {
   "cell_type": "markdown",
   "metadata": {},
   "source": [
    "__c)__ Calcula el importe máximo y mínimo de las facturas. El importe de la factura es la columna que ocupa la posición 0 en el array __tips__.\n",
    "\n"
   ]
  },
  {
   "cell_type": "code",
   "execution_count": 16,
   "metadata": {},
   "outputs": [
    {
     "data": {
      "text/plain": [
       "(3.07, 50.81)"
      ]
     },
     "execution_count": 16,
     "metadata": {},
     "output_type": "execute_result"
    }
   ],
   "source": [
    "# Sol:\n",
    "tips[:,0].min(),tips[:,0].max()"
   ]
  },
  {
   "cell_type": "code",
   "execution_count": 17,
   "metadata": {},
   "outputs": [
    {
     "data": {
      "text/plain": [
       "array([19.78594262,  2.99827869])"
      ]
     },
     "execution_count": 17,
     "metadata": {},
     "output_type": "execute_result"
    }
   ],
   "source": [
    "#Valor medio\n",
    "np.mean(tips[:,0]),np.std(tips[:,0])\n",
    "tips.mean(axis=0) #axis 0 es las filas, axis 1 es las columnas\n",
    "\n",
    "tips[:,:2].mean(axis=0) #calcula el promedio de las dos columnas\n",
    "np.mean(tips[:,:2],axis=0)"
   ]
  },
  {
   "cell_type": "markdown",
   "metadata": {},
   "source": [
    "__d)__ Representa gráficamente mediante un diagrama de caja los datos correspondientes al importe de la factura. Puedes utilizar la función __boxplot__."
   ]
  },
  {
   "cell_type": "code",
   "execution_count": 18,
   "metadata": {},
   "outputs": [
    {
     "data": {
      "image/png": "[encoded data removed]",
      "text/plain": [
       "<Figure size 360x360 with 1 Axes>"
      ]
     },
     "metadata": {
      "needs_background": "light"
     },
     "output_type": "display_data"
    }
   ],
   "source": [
    "# Sol:\n",
    "fig, ax = plt.subplots(1, figsize=(5,5)) #figsize: tamanoEjex,TamanoEjey\n",
    "\n",
    "# Opción: Pinta una cuadrícula en la gráfica\n",
    "ax.grid(True) \n",
    "ax.boxplot(tips[:,:2])          # representamos las dos variables (las dos columnas)\n",
    "\n",
    "ax.set_title('BoxPlot')\n",
    "ax.set_xticklabels(['Importe', 'Propina']);"
   ]
  },
  {
   "cell_type": "markdown",
   "metadata": {},
   "source": [
    "__e)__  Representa gráficamente la relación entre el importe de la factura y la propina. Genera un diagrama de dispersión utilizando la función __scatter__.\n",
    "\n"
   ]
  },
  {
   "cell_type": "code",
   "execution_count": 19,
   "metadata": {},
   "outputs": [
    {
     "data": {
      "text/plain": [
       "array([[1.        , 0.67573411],\n",
       "       [0.67573411, 1.        ]])"
      ]
     },
     "execution_count": 19,
     "metadata": {},
     "output_type": "execute_result"
    }
   ],
   "source": [
    "np.corrcoef(tips[:,0],tips[:,1])"
   ]
  },
  {
   "cell_type": "code",
   "execution_count": 20,
   "metadata": {},
   "outputs": [
    {
     "data": {
      "image/png": "[encoded data removed]",
      "text/plain": [
       "<Figure size 720x360 with 1 Axes>"
      ]
     },
     "metadata": {
      "needs_background": "light"
     },
     "output_type": "display_data"
    }
   ],
   "source": [
    "# Sol:\n",
    "# Sol  relación entre el  importe factura y la propina.\n",
    "fig, ax1 = plt.subplots(nrows = 1, figsize=(10,5))   \n",
    "\n",
    "importe = tips[:,0]\n",
    "propina = tips[:,1]\n",
    "\n",
    "ax1.scatter(importe, propina, marker = 'o')   #marker='d' diamantes\n",
    "ax1.set_title('Diagrama de dispersion')\n",
    "ax1.set_xlabel('Importe')\n",
    "ax1.set_ylabel('Propina');"
   ]
  },
  {
   "cell_type": "markdown",
   "metadata": {},
   "source": [
    "__f)__ Representa gráficamente la relación entre el importe de la factura y la propina. Genera un diagrama de dispersión utilizando la función __scatter__. Añade una tercera dimensión que será representada mediante distintos colores. La tercera dimensión se corresponde al sexo. Así podremos ver las facturas de los hombres y las de las mujeres. El sexo se corresponde con la variable en la posición 2 del array __tips__.\n"
   ]
  },
  {
   "cell_type": "code",
   "execution_count": 21,
   "metadata": {},
   "outputs": [
    {
     "data": {
      "image/png": "[encoded data removed]",
      "text/plain": [
       "<Figure size 720x360 with 1 Axes>"
      ]
     },
     "metadata": {
      "needs_background": "light"
     },
     "output_type": "display_data"
    }
   ],
   "source": [
    "# Sol:\n",
    "# relación entre el  importe factura y la propina.\n",
    "# tercera variable: sexo\n",
    "\n",
    "fig, ax1 = plt.subplots(nrows = 1, figsize=(10,5))   \n",
    "\n",
    "importe = tips[:,0]\n",
    "propina = tips[:,1]\n",
    "sexo    = tips[:, 2]\n",
    "\n",
    "ax1.scatter(importe, propina, marker = 'o', c = sexo)    \n",
    "ax1.set_title('Diagrama de dispersion')\n",
    "ax1.set_xlabel('Importe')\n",
    "ax1.set_ylabel('Propina');"
   ]
  },
  {
   "cell_type": "markdown",
   "metadata": {},
   "source": [
    "__f)__ Calcula la media del número de comensales."
   ]
  },
  {
   "cell_type": "code",
   "execution_count": 22,
   "metadata": {},
   "outputs": [
    {
     "data": {
      "text/plain": [
       "(2.569672131147541, 0.9491488287193913)"
      ]
     },
     "execution_count": 22,
     "metadata": {},
     "output_type": "execute_result"
    }
   ],
   "source": [
    "# Sol:\n",
    "#Valor medio\n",
    "np.mean(tips[:,5]),np.std(tips[:,5])"
   ]
  },
  {
   "cell_type": "markdown",
   "metadata": {},
   "source": [
    "__g)__ Calcula el coeficiente de correlación entre el importe y la propina."
   ]
  },
  {
   "cell_type": "code",
   "execution_count": 23,
   "metadata": {},
   "outputs": [
    {
     "data": {
      "text/plain": [
       "array([[1.        , 0.67573411],\n",
       "       [0.67573411, 1.        ]])"
      ]
     },
     "execution_count": 23,
     "metadata": {},
     "output_type": "execute_result"
    }
   ],
   "source": [
    "# Sol:\n",
    "np.corrcoef(tips[:,0],tips[:,1])"
   ]
  },
  {
   "cell_type": "markdown",
   "metadata": {},
   "source": [
    "__h)__ Importe medio de factura de las mujeres fumadoras."
   ]
  },
  {
   "cell_type": "code",
   "execution_count": 24,
   "metadata": {},
   "outputs": [
    {
     "data": {
      "text/plain": [
       "17.98"
      ]
     },
     "execution_count": 24,
     "metadata": {},
     "output_type": "execute_result"
    }
   ],
   "source": [
    "# Sol:\n",
    "mujeres_fum=tips[(tips[:,2]==2) & (tips[:,3]==1)]\n",
    "media=round(np.mean(mujeres_fum[:,0]),2)\n",
    "media"
   ]
  },
  {
   "cell_type": "markdown",
   "metadata": {},
   "source": [
    "__i)__ Calcula la mediana del importe de la factura de los hombres."
   ]
  },
  {
   "cell_type": "code",
   "execution_count": 25,
   "metadata": {},
   "outputs": [
    {
     "data": {
      "text/plain": [
       "18.35"
      ]
     },
     "execution_count": 25,
     "metadata": {},
     "output_type": "execute_result"
    }
   ],
   "source": [
    "# Sol:\n",
    "np.median(tips[(tips[:,2]==1),0])"
   ]
  },
  {
   "cell_type": "markdown",
   "metadata": {},
   "source": [
    "__j)__ Calcula el importe total pagado (importe factura + propina)."
   ]
  },
  {
   "cell_type": "code",
   "execution_count": 26,
   "metadata": {},
   "outputs": [
    {
     "data": {
      "text/plain": [
       "array([[16.99,  1.01,  2.  , ...,  7.  ,  2.  , 18.  ],\n",
       "       [10.34,  1.66,  1.  , ...,  7.  ,  3.  , 12.  ],\n",
       "       [21.01,  3.5 ,  1.  , ...,  7.  ,  3.  , 24.51],\n",
       "       ...,\n",
       "       [22.67,  2.  ,  1.  , ...,  6.  ,  2.  , 24.67],\n",
       "       [17.82,  1.75,  1.  , ...,  6.  ,  2.  , 19.57],\n",
       "       [18.78,  3.  ,  2.  , ...,  4.  ,  2.  , 21.78]])"
      ]
     },
     "execution_count": 26,
     "metadata": {},
     "output_type": "execute_result"
    }
   ],
   "source": [
    "# Sol:\n",
    "total=tips[:,0]+tips[:,1]\n",
    "\n",
    "np.hstack([tips,total.reshape(len(tips),1)])"
   ]
  },
  {
   "cell_type": "markdown",
   "metadata": {},
   "source": [
    "---------------------"
   ]
  }
 ],
 "metadata": {
  "anaconda-cloud": {},
  "kernelspec": {
   "display_name": "Python 3",
   "language": "python",
   "name": "python3"
  },
  "language_info": {
   "codemirror_mode": {
    "name": "ipython",
    "version": 3
   },
   "file_extension": ".py",
   "mimetype": "text/x-python",
   "name": "python",
   "nbconvert_exporter": "python",
   "pygments_lexer": "ipython3",
   "version": "3.7.3"
  },
  "nbTranslate": {
   "displayLangs": [
    "en",
    "es"
   ],
   "hotkey": "alt-t",
   "langInMainMenu": true,
   "sourceLang": "es",
   "targetLang": "en",
   "useGoogleTranslate": true
  },
  "toc": {
   "base_numbering": 1,
   "nav_menu": {
    "height": "68px",
    "width": "252px"
   },
   "number_sections": true,
   "sideBar": true,
   "skip_h1_title": false,
   "title_cell": "Table of Contents",
   "title_sidebar": "Contents",
   "toc_cell": false,
   "toc_position": {},
   "toc_section_display": "block",
   "toc_window_display": false
  }
 },
 "nbformat": 4,
 "nbformat_minor": 1
}
